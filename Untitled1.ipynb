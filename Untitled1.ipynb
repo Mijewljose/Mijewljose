{
  "nbformat": 4,
  "nbformat_minor": 0,
  "metadata": {
    "colab": {
      "provenance": [],
      "authorship_tag": "ABX9TyMgs/cRSHthWrPr/1HnYqxr",
      "include_colab_link": true
    },
    "kernelspec": {
      "name": "python3",
      "display_name": "Python 3"
    },
    "language_info": {
      "name": "python"
    }
  },
  "cells": [
    {
      "cell_type": "markdown",
      "metadata": {
        "id": "view-in-github",
        "colab_type": "text"
      },
      "source": [
        "<a href=\"https://colab.research.google.com/github/Mijewljose/Mijewljose/blob/main/Untitled1.ipynb\" target=\"_parent\"><img src=\"https://colab.research.google.com/assets/colab-badge.svg\" alt=\"Open In Colab\"/></a>"
      ]
    },
    {
      "cell_type": "code",
      "execution_count": null,
      "metadata": {
        "id": "c00tcZUJbs9w"
      },
      "outputs": [],
      "source": [
        "import pandas as pd"
      ]
    },
    {
      "cell_type": "code",
      "source": [
        "x = [\"a\", \"m\", \"l\", \"p\", \"k\", \"p\"]\n",
        "x1 = pd.DataFrame(x, columns=['Alphabets'])\n",
        "x2 = x1.head(2)"
      ],
      "metadata": {
        "id": "eLWkhmQhbw2P"
      },
      "execution_count": null,
      "outputs": []
    },
    {
      "cell_type": "code",
      "source": [
        "print(x2)"
      ],
      "metadata": {
        "colab": {
          "base_uri": "https://localhost:8080/"
        },
        "id": "qTicRd9GcH_m",
        "outputId": "7dac669a-dd1b-4491-a9eb-cc128a434f20"
      },
      "execution_count": null,
      "outputs": [
        {
          "output_type": "stream",
          "name": "stdout",
          "text": [
            "  Alphabets\n",
            "0         a\n",
            "1         m\n"
          ]
        }
      ]
    },
    {
      "cell_type": "code",
      "source": [
        "y = {'Length': [15, 13, 18, 40, 22]}\n",
        "y1 = pd.DataFrame(y)"
      ],
      "metadata": {
        "id": "btxJkzmrcVh5"
      },
      "execution_count": null,
      "outputs": []
    },
    {
      "cell_type": "code",
      "source": [
        "print(y1)"
      ],
      "metadata": {
        "colab": {
          "base_uri": "https://localhost:8080/"
        },
        "id": "yVqmUcT4ckM8",
        "outputId": "9b50e7a8-0446-4638-fbcd-d2cf1b8c977c"
      },
      "execution_count": null,
      "outputs": [
        {
          "output_type": "stream",
          "name": "stdout",
          "text": [
            "   Length\n",
            "0      15\n",
            "1      13\n",
            "2      18\n",
            "3      40\n",
            "4      22\n"
          ]
        }
      ]
    },
    {
      "cell_type": "code",
      "source": [
        "print(y1.describe())"
      ],
      "metadata": {
        "colab": {
          "base_uri": "https://localhost:8080/"
        },
        "id": "XHGN79cCcx0x",
        "outputId": "7867471d-d131-4163-ab48-42e53b48d54e"
      },
      "execution_count": null,
      "outputs": [
        {
          "output_type": "stream",
          "name": "stdout",
          "text": [
            "          Length\n",
            "count   5.000000\n",
            "mean   21.600000\n",
            "std    10.830512\n",
            "min    13.000000\n",
            "25%    15.000000\n",
            "50%    18.000000\n",
            "75%    22.000000\n",
            "max    40.000000\n"
          ]
        }
      ]
    },
    {
      "cell_type": "code",
      "source": [
        "print(y1.info())\n"
      ],
      "metadata": {
        "colab": {
          "base_uri": "https://localhost:8080/"
        },
        "id": "kKCEtAn3dANE",
        "outputId": "28792457-067a-46df-ed53-d4472dd7cb7c"
      },
      "execution_count": null,
      "outputs": [
        {
          "output_type": "stream",
          "name": "stdout",
          "text": [
            "<class 'pandas.core.frame.DataFrame'>\n",
            "RangeIndex: 5 entries, 0 to 4\n",
            "Data columns (total 1 columns):\n",
            " #   Column  Non-Null Count  Dtype\n",
            "---  ------  --------------  -----\n",
            " 0   Length  5 non-null      int64\n",
            "dtypes: int64(1)\n",
            "memory usage: 168.0 bytes\n",
            "None\n"
          ]
        }
      ]
    },
    {
      "cell_type": "code",
      "source": [
        "import pandas as pd"
      ],
      "metadata": {
        "id": "-w-QOVEpf2Dv"
      },
      "execution_count": null,
      "outputs": []
    },
    {
      "cell_type": "code",
      "source": [
        "data = {'Name': ['Mijewel', 'Milan', 'Miya', 'Mini'],\n",
        "        'Age': [21, \"NaN\", 18, 45],\n",
        "        'Gender': ['Male', 'Male', 'Female', 'Female'],\n",
        "        'Salary': [50000, 35000, 45000, 70000]}"
      ],
      "metadata": {
        "id": "57D1WUfvf66W"
      },
      "execution_count": null,
      "outputs": []
    },
    {
      "cell_type": "code",
      "source": [
        "df = pd.DataFrame(data)"
      ],
      "metadata": {
        "id": "fvx8ARNFhO0w"
      },
      "execution_count": null,
      "outputs": []
    },
    {
      "cell_type": "code",
      "source": [
        "df.to_csv('mydataset.csv', index=False)"
      ],
      "metadata": {
        "id": "pAEQhJZJiFn3"
      },
      "execution_count": null,
      "outputs": []
    },
    {
      "cell_type": "code",
      "source": [
        "print(df.head())"
      ],
      "metadata": {
        "colab": {
          "base_uri": "https://localhost:8080/"
        },
        "id": "bRT6ngAuiNf8",
        "outputId": "8127b6a8-e256-4706-f2f5-67a2a7689b41"
      },
      "execution_count": null,
      "outputs": [
        {
          "output_type": "stream",
          "name": "stdout",
          "text": [
            "      Name  Age  Gender  Salary\n",
            "0  Mijewel   21    Male   50000\n",
            "1    Milan  NaN    Male   35000\n",
            "2     Miya   18  Female   45000\n",
            "3     Mini   45  Female   70000\n"
          ]
        }
      ]
    },
    {
      "cell_type": "code",
      "source": [
        "print(df.info())\n",
        "print(df.describe())\n",
        "print(df.shape)"
      ],
      "metadata": {
        "colab": {
          "base_uri": "https://localhost:8080/"
        },
        "id": "AdiG6FvbiXGM",
        "outputId": "933f631c-0f14-47f3-fdd9-10a339c55746"
      },
      "execution_count": null,
      "outputs": [
        {
          "output_type": "stream",
          "name": "stdout",
          "text": [
            "<class 'pandas.core.frame.DataFrame'>\n",
            "RangeIndex: 4 entries, 0 to 3\n",
            "Data columns (total 4 columns):\n",
            " #   Column  Non-Null Count  Dtype \n",
            "---  ------  --------------  ----- \n",
            " 0   Name    4 non-null      object\n",
            " 1   Age     4 non-null      object\n",
            " 2   Gender  4 non-null      object\n",
            " 3   Salary  4 non-null      int64 \n",
            "dtypes: int64(1), object(3)\n",
            "memory usage: 256.0+ bytes\n",
            "None\n",
            "             Salary\n",
            "count      4.000000\n",
            "mean   50000.000000\n",
            "std    14719.601444\n",
            "min    35000.000000\n",
            "25%    42500.000000\n",
            "50%    47500.000000\n",
            "75%    55000.000000\n",
            "max    70000.000000\n",
            "(4, 4)\n"
          ]
        }
      ]
    },
    {
      "cell_type": "code",
      "source": [
        "print(df.isnull().sum())\n",
        "print(df.dtypes)"
      ],
      "metadata": {
        "colab": {
          "base_uri": "https://localhost:8080/"
        },
        "id": "-ielx1IbifFL",
        "outputId": "90c1422c-df76-4a65-a18f-88e5828d8cfa"
      },
      "execution_count": null,
      "outputs": [
        {
          "output_type": "stream",
          "name": "stdout",
          "text": [
            "Name      0\n",
            "Age       0\n",
            "Gender    0\n",
            "Salary    0\n",
            "dtype: int64\n",
            "Name      object\n",
            "Age       object\n",
            "Gender    object\n",
            "Salary     int64\n",
            "dtype: object\n"
          ]
        }
      ]
    },
    {
      "cell_type": "code",
      "source": [
        "df['Age'].fillna('NaN', inplace=True)"
      ],
      "metadata": {
        "id": "JNT7k8YCimYj"
      },
      "execution_count": null,
      "outputs": []
    },
    {
      "cell_type": "code",
      "source": [
        "\n",
        "print(df)"
      ],
      "metadata": {
        "colab": {
          "base_uri": "https://localhost:8080/"
        },
        "id": "PUZ8EQdzj8zM",
        "outputId": "f12fbb25-85e5-4a7f-c22f-50a41f06255f"
      },
      "execution_count": null,
      "outputs": [
        {
          "output_type": "stream",
          "name": "stdout",
          "text": [
            "      Name  Age  Gender  Salary\n",
            "0  Mijewel   21    Male   50000\n",
            "1    Milan  NaN    Male   35000\n",
            "2     Miya   18  Female   45000\n",
            "3     Mini   45  Female   75000\n"
          ]
        }
      ]
    },
    {
      "cell_type": "code",
      "source": [
        "x1 = 75000\n",
        "df.loc[df['Salary'] > 60000, 'Salary'] = x1"
      ],
      "metadata": {
        "id": "Jv7s5q-Njoab"
      },
      "execution_count": null,
      "outputs": []
    },
    {
      "cell_type": "code",
      "source": [
        "print(df)"
      ],
      "metadata": {
        "colab": {
          "base_uri": "https://localhost:8080/"
        },
        "id": "jzBnhbrJkxW2",
        "outputId": "d132b4b0-11a4-4fe4-f12e-331aed105b5d"
      },
      "execution_count": null,
      "outputs": [
        {
          "output_type": "stream",
          "name": "stdout",
          "text": [
            "      Name  Age  Gender  Salary\n",
            "0  Mijewel   21    Male   50000\n",
            "1    Milan  NaN    Male   35000\n",
            "2     Miya   18  Female   45000\n",
            "3     Mini   45  Female   75000\n"
          ]
        }
      ]
    },
    {
      "cell_type": "code",
      "source": [
        "print(df.duplicated().sum())\n",
        "print(df[df.duplicated()])"
      ],
      "metadata": {
        "colab": {
          "base_uri": "https://localhost:8080/"
        },
        "id": "NCK2awwomiDg",
        "outputId": "67713fd5-240d-4719-f274-bb572d8e27ea"
      },
      "execution_count": null,
      "outputs": [
        {
          "output_type": "stream",
          "name": "stdout",
          "text": [
            "0\n",
            "Empty DataFrame\n",
            "Columns: [Name, Age, Gender, Salary]\n",
            "Index: []\n"
          ]
        }
      ]
    },
    {
      "cell_type": "code",
      "source": [
        "df.to_csv('my1dataset.csv', index=False)"
      ],
      "metadata": {
        "id": "0BgTS6mBmqP3"
      },
      "execution_count": null,
      "outputs": []
    },
    {
      "cell_type": "code",
      "source": [
        "print(df)"
      ],
      "metadata": {
        "colab": {
          "base_uri": "https://localhost:8080/"
        },
        "id": "jw5SANMXmvD3",
        "outputId": "cc462aea-2109-46b4-8571-673558b5f04d"
      },
      "execution_count": null,
      "outputs": [
        {
          "output_type": "stream",
          "name": "stdout",
          "text": [
            "      Name  Age  Gender  Salary\n",
            "0  Mijewel   21    Male   50000\n",
            "1    Milan  NaN    Male   35000\n",
            "2     Miya   18  Female   45000\n",
            "3     Mini   45  Female   75000\n"
          ]
        }
      ]
    }
  ]
}